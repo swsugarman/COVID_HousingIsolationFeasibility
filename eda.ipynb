{
 "cells": [
  {
   "cell_type": "markdown",
   "metadata": {},
   "source": [
    "# Final Project Exploratory Data Analysis\n",
    "\n",
    "Do your EDA in this notebook!"
   ]
  },
  {
   "cell_type": "code",
   "execution_count": 4,
   "metadata": {},
   "outputs": [],
   "source": [
    "import pandas as pd\n",
    "import matplotlib.pyplot as plt\n",
    "import seaborn as sns\n",
    "\n",
    "plt.style.use('fivethirtyeight')"
   ]
  },
  {
   "cell_type": "markdown",
   "metadata": {},
   "source": [
    "Imported 2015 American Housing Survey Public Use Flat Files from Census.gov including the National Public Use File (ahs2015n.csv) and Metropolitan Public Use File (ahs2015m.csv) downloaded from https://www.census.gov/programs-surveys/ahs/data/2015/ahs-2015-public-use-file--puf-.html To allow the descriptive labels to be automatically applied to each column as needed, I also imported a separate labels table from the AHS 2015 Value Labels.csv to allow the proper labeling of axes using a data dictionary.\n",
    "To allow conversion of OMB13CBSA numerical codes to their descriptive metropolitan labels, I imported a code crosswalk from https://public.opendatasoft.com/explore/dataset/core-based-statistical-areas-cbsas-and-combined-statistical-areas-csas/download/?format=xls&timezone=America/Los_Angeles&lang=en&use_labels_for_header=true as the codeset maintained by the OMB is only available as a PDF file."
   ]
  },
  {
   "cell_type": "markdown",
   "metadata": {},
   "source": [
    "To improve performance, I only want to import the columns needed in this data analysis instead of the entire 2995 available."
   ]
  },
  {
   "cell_type": "code",
   "execution_count": 23,
   "metadata": {},
   "outputs": [],
   "source": [
    "columns=['CONTROL', 'OMB13CBSA', 'VACANCY', 'BLD', 'UNITSIZE', 'TOTROOMS', 'BEDROOMS',\n",
    "         'BATHROOMS', 'HSHLDTYPE', 'NUMPEOPLE', 'NUMADULTS', 'NUMELDERS', 'NUMYNGKIDS', 'NUMOLDKIDS',\n",
    "         'NUMVETS', 'NUMNONREL', 'MULTIGEN', 'GRANDHH', 'NUMSUBFAM', 'NUMSECFAM', 'DISHH', 'HHSEX', \n",
    "        'HHAGE', 'HHMAR', 'HHRACE', 'HHRACEAS', 'HHRACEPI', 'HHSPAN', 'HHCITSHP', 'HHNATVTY']"
   ]
  },
  {
   "cell_type": "code",
   "execution_count": 24,
   "metadata": {},
   "outputs": [],
   "source": [
    "ahs_n=pd.read_csv('data/ahs2015n.csv', usecols=columns)\n",
    "ahs_m=pd.read_csv('data/ahs2015m.csv', usecols=columns)\n",
    "cbsa=pd.read_csv('data/cbsa.csv')\n",
    "labels=pd.read_csv('data/AHS 2015 Value Labels.csv')"
   ]
  },
  {
   "cell_type": "markdown",
   "metadata": {},
   "source": [
    "Verify the file imports:"
   ]
  },
  {
   "cell_type": "code",
   "execution_count": 26,
   "metadata": {},
   "outputs": [
    {
     "data": {
      "text/plain": [
       "(69493, 30)"
      ]
     },
     "execution_count": 26,
     "metadata": {},
     "output_type": "execute_result"
    }
   ],
   "source": [
    "ahs_n.shape"
   ]
  },
  {
   "cell_type": "code",
   "execution_count": 27,
   "metadata": {},
   "outputs": [
    {
     "data": {
      "text/plain": [
       "(24886, 30)"
      ]
     },
     "execution_count": 27,
     "metadata": {},
     "output_type": "execute_result"
    }
   ],
   "source": [
    "ahs_m.shape"
   ]
  },
  {
   "cell_type": "code",
   "execution_count": 28,
   "metadata": {},
   "outputs": [
    {
     "data": {
      "text/plain": [
       "(1918, 12)"
      ]
     },
     "execution_count": 28,
     "metadata": {},
     "output_type": "execute_result"
    }
   ],
   "source": [
    "cbsa.shape"
   ]
  },
  {
   "cell_type": "code",
   "execution_count": 29,
   "metadata": {},
   "outputs": [
    {
     "data": {
      "text/plain": [
       "(11121, 8)"
      ]
     },
     "execution_count": 29,
     "metadata": {},
     "output_type": "execute_result"
    }
   ],
   "source": [
    "labels.shape"
   ]
  },
  {
   "cell_type": "markdown",
   "metadata": {},
   "source": [
    "For ease of analysis of the AHS data, I will append the national dataset and the metropolitan dataset."
   ]
  },
  {
   "cell_type": "code",
   "execution_count": 30,
   "metadata": {},
   "outputs": [
    {
     "data": {
      "text/plain": [
       "(94379, 30)"
      ]
     },
     "execution_count": 30,
     "metadata": {},
     "output_type": "execute_result"
    }
   ],
   "source": [
    "ahs=ahs_n.append(ahs_m)\n",
    "ahs.shape"
   ]
  },
  {
   "cell_type": "code",
   "execution_count": 31,
   "metadata": {},
   "outputs": [
    {
     "data": {
      "text/plain": [
       "Index(['CONTROL', 'TOTROOMS', 'OMB13CBSA', 'BLD', 'HHSEX', 'HHMAR', 'HHSPAN',\n",
       "       'HHCITSHP', 'HHAGE', 'HHRACE', 'HHRACEAS', 'HHRACEPI', 'HHNATVTY',\n",
       "       'HSHLDTYPE', 'NUMELDERS', 'NUMADULTS', 'NUMNONREL', 'NUMVETS',\n",
       "       'NUMYNGKIDS', 'NUMOLDKIDS', 'NUMSUBFAM', 'NUMSECFAM', 'NUMPEOPLE',\n",
       "       'GRANDHH', 'MULTIGEN', 'UNITSIZE', 'BEDROOMS', 'DISHH', 'BATHROOMS',\n",
       "       'VACANCY'],\n",
       "      dtype='object')"
      ]
     },
     "execution_count": 31,
     "metadata": {},
     "output_type": "execute_result"
    }
   ],
   "source": [
    "ahs.columns"
   ]
  },
  {
   "cell_type": "code",
   "execution_count": 32,
   "metadata": {},
   "outputs": [],
   "source": [
    "ahs.set_index('CONTROL', inplace=True)"
   ]
  },
  {
   "cell_type": "code",
   "execution_count": 33,
   "metadata": {},
   "outputs": [
    {
     "data": {
      "text/plain": [
       "'CONTROL'"
      ]
     },
     "execution_count": 33,
     "metadata": {},
     "output_type": "execute_result"
    }
   ],
   "source": [
    "ahs.index.name"
   ]
  },
  {
   "cell_type": "code",
   "execution_count": 34,
   "metadata": {},
   "outputs": [
    {
     "data": {
      "text/html": [
       "<div>\n",
       "<style scoped>\n",
       "    .dataframe tbody tr th:only-of-type {\n",
       "        vertical-align: middle;\n",
       "    }\n",
       "\n",
       "    .dataframe tbody tr th {\n",
       "        vertical-align: top;\n",
       "    }\n",
       "\n",
       "    .dataframe thead th {\n",
       "        text-align: right;\n",
       "    }\n",
       "</style>\n",
       "<table border=\"1\" class=\"dataframe\">\n",
       "  <thead>\n",
       "    <tr style=\"text-align: right;\">\n",
       "      <th></th>\n",
       "      <th>TOTROOMS</th>\n",
       "      <th>OMB13CBSA</th>\n",
       "      <th>BLD</th>\n",
       "      <th>HHSEX</th>\n",
       "      <th>HHMAR</th>\n",
       "      <th>HHSPAN</th>\n",
       "      <th>HHCITSHP</th>\n",
       "      <th>HHAGE</th>\n",
       "      <th>HHRACE</th>\n",
       "      <th>HHRACEAS</th>\n",
       "      <th>...</th>\n",
       "      <th>NUMSUBFAM</th>\n",
       "      <th>NUMSECFAM</th>\n",
       "      <th>NUMPEOPLE</th>\n",
       "      <th>GRANDHH</th>\n",
       "      <th>MULTIGEN</th>\n",
       "      <th>UNITSIZE</th>\n",
       "      <th>BEDROOMS</th>\n",
       "      <th>DISHH</th>\n",
       "      <th>BATHROOMS</th>\n",
       "      <th>VACANCY</th>\n",
       "    </tr>\n",
       "    <tr>\n",
       "      <th>CONTROL</th>\n",
       "      <th></th>\n",
       "      <th></th>\n",
       "      <th></th>\n",
       "      <th></th>\n",
       "      <th></th>\n",
       "      <th></th>\n",
       "      <th></th>\n",
       "      <th></th>\n",
       "      <th></th>\n",
       "      <th></th>\n",
       "      <th></th>\n",
       "      <th></th>\n",
       "      <th></th>\n",
       "      <th></th>\n",
       "      <th></th>\n",
       "      <th></th>\n",
       "      <th></th>\n",
       "      <th></th>\n",
       "      <th></th>\n",
       "      <th></th>\n",
       "      <th></th>\n",
       "    </tr>\n",
       "  </thead>\n",
       "  <tbody>\n",
       "    <tr>\n",
       "      <th>'11000001'</th>\n",
       "      <td>7</td>\n",
       "      <td>'37980'</td>\n",
       "      <td>'02'</td>\n",
       "      <td>'1'</td>\n",
       "      <td>'1'</td>\n",
       "      <td>'2'</td>\n",
       "      <td>'1'</td>\n",
       "      <td>48</td>\n",
       "      <td>'01'</td>\n",
       "      <td>'-6'</td>\n",
       "      <td>...</td>\n",
       "      <td>0</td>\n",
       "      <td>0</td>\n",
       "      <td>3</td>\n",
       "      <td>'2'</td>\n",
       "      <td>'2'</td>\n",
       "      <td>'6'</td>\n",
       "      <td>3</td>\n",
       "      <td>'2'</td>\n",
       "      <td>'04'</td>\n",
       "      <td>'-6'</td>\n",
       "    </tr>\n",
       "    <tr>\n",
       "      <th>'11000002'</th>\n",
       "      <td>7</td>\n",
       "      <td>'99998'</td>\n",
       "      <td>'02'</td>\n",
       "      <td>'2'</td>\n",
       "      <td>'4'</td>\n",
       "      <td>'2'</td>\n",
       "      <td>'1'</td>\n",
       "      <td>77</td>\n",
       "      <td>'01'</td>\n",
       "      <td>'-6'</td>\n",
       "      <td>...</td>\n",
       "      <td>0</td>\n",
       "      <td>0</td>\n",
       "      <td>2</td>\n",
       "      <td>'2'</td>\n",
       "      <td>'1'</td>\n",
       "      <td>'8'</td>\n",
       "      <td>3</td>\n",
       "      <td>'1'</td>\n",
       "      <td>'04'</td>\n",
       "      <td>'-6'</td>\n",
       "    </tr>\n",
       "    <tr>\n",
       "      <th>'11000003'</th>\n",
       "      <td>4</td>\n",
       "      <td>'99998'</td>\n",
       "      <td>'03'</td>\n",
       "      <td>'2'</td>\n",
       "      <td>'6'</td>\n",
       "      <td>'2'</td>\n",
       "      <td>'1'</td>\n",
       "      <td>24</td>\n",
       "      <td>'02'</td>\n",
       "      <td>'-6'</td>\n",
       "      <td>...</td>\n",
       "      <td>0</td>\n",
       "      <td>0</td>\n",
       "      <td>3</td>\n",
       "      <td>'2'</td>\n",
       "      <td>'2'</td>\n",
       "      <td>'3'</td>\n",
       "      <td>2</td>\n",
       "      <td>'-9'</td>\n",
       "      <td>'01'</td>\n",
       "      <td>'-6'</td>\n",
       "    </tr>\n",
       "    <tr>\n",
       "      <th>'11000005'</th>\n",
       "      <td>8</td>\n",
       "      <td>'99998'</td>\n",
       "      <td>'02'</td>\n",
       "      <td>'1'</td>\n",
       "      <td>'1'</td>\n",
       "      <td>'2'</td>\n",
       "      <td>'1'</td>\n",
       "      <td>68</td>\n",
       "      <td>'01'</td>\n",
       "      <td>'-6'</td>\n",
       "      <td>...</td>\n",
       "      <td>0</td>\n",
       "      <td>0</td>\n",
       "      <td>3</td>\n",
       "      <td>'2'</td>\n",
       "      <td>'5'</td>\n",
       "      <td>'6'</td>\n",
       "      <td>4</td>\n",
       "      <td>'1'</td>\n",
       "      <td>'05'</td>\n",
       "      <td>'-6'</td>\n",
       "    </tr>\n",
       "    <tr>\n",
       "      <th>'11000006'</th>\n",
       "      <td>5</td>\n",
       "      <td>'99998'</td>\n",
       "      <td>'02'</td>\n",
       "      <td>'1'</td>\n",
       "      <td>'6'</td>\n",
       "      <td>'2'</td>\n",
       "      <td>'1'</td>\n",
       "      <td>20</td>\n",
       "      <td>'01'</td>\n",
       "      <td>'-6'</td>\n",
       "      <td>...</td>\n",
       "      <td>0</td>\n",
       "      <td>0</td>\n",
       "      <td>3</td>\n",
       "      <td>'2'</td>\n",
       "      <td>'1'</td>\n",
       "      <td>'-9'</td>\n",
       "      <td>3</td>\n",
       "      <td>'2'</td>\n",
       "      <td>'03'</td>\n",
       "      <td>'-6'</td>\n",
       "    </tr>\n",
       "  </tbody>\n",
       "</table>\n",
       "<p>5 rows × 29 columns</p>\n",
       "</div>"
      ],
      "text/plain": [
       "            TOTROOMS OMB13CBSA   BLD HHSEX HHMAR HHSPAN HHCITSHP  HHAGE  \\\n",
       "CONTROL                                                                   \n",
       "'11000001'         7   '37980'  '02'   '1'   '1'    '2'      '1'     48   \n",
       "'11000002'         7   '99998'  '02'   '2'   '4'    '2'      '1'     77   \n",
       "'11000003'         4   '99998'  '03'   '2'   '6'    '2'      '1'     24   \n",
       "'11000005'         8   '99998'  '02'   '1'   '1'    '2'      '1'     68   \n",
       "'11000006'         5   '99998'  '02'   '1'   '6'    '2'      '1'     20   \n",
       "\n",
       "           HHRACE HHRACEAS  ... NUMSUBFAM NUMSECFAM NUMPEOPLE  GRANDHH  \\\n",
       "CONTROL                     ...                                          \n",
       "'11000001'   '01'     '-6'  ...         0         0         3      '2'   \n",
       "'11000002'   '01'     '-6'  ...         0         0         2      '2'   \n",
       "'11000003'   '02'     '-6'  ...         0         0         3      '2'   \n",
       "'11000005'   '01'     '-6'  ...         0         0         3      '2'   \n",
       "'11000006'   '01'     '-6'  ...         0         0         3      '2'   \n",
       "\n",
       "            MULTIGEN  UNITSIZE  BEDROOMS  DISHH  BATHROOMS  VACANCY  \n",
       "CONTROL                                                              \n",
       "'11000001'       '2'       '6'         3    '2'       '04'     '-6'  \n",
       "'11000002'       '1'       '8'         3    '1'       '04'     '-6'  \n",
       "'11000003'       '2'       '3'         2   '-9'       '01'     '-6'  \n",
       "'11000005'       '5'       '6'         4    '1'       '05'     '-6'  \n",
       "'11000006'       '1'      '-9'         3    '2'       '03'     '-6'  \n",
       "\n",
       "[5 rows x 29 columns]"
      ]
     },
     "execution_count": 34,
     "metadata": {},
     "output_type": "execute_result"
    }
   ],
   "source": [
    "ahs.head(5)"
   ]
  },
  {
   "cell_type": "code",
   "execution_count": 35,
   "metadata": {},
   "outputs": [
    {
     "data": {
      "text/plain": [
       "array([\"'37980'\", \"'99998'\", \"'99999'\", \"'47900'\", \"'35620'\", \"'14460'\",\n",
       "       \"'41860'\", \"'26420'\", \"'33100'\", \"'12060'\", \"'38060'\", \"'16980'\",\n",
       "       \"'19100'\", \"'19820'\", \"'42660'\", \"'31080'\", \"'40140'\", \"'28140'\",\n",
       "       \"'38900'\", \"'38300'\", \"'35380'\", \"'39580'\", \"'19740'\", \"'32820'\",\n",
       "       \"'17460'\", \"'17140'\", \"'33340'\"], dtype=object)"
      ]
     },
     "execution_count": 35,
     "metadata": {},
     "output_type": "execute_result"
    }
   ],
   "source": [
    "ahs['OMB13CBSA'].unique()"
   ]
  },
  {
   "cell_type": "code",
   "execution_count": 36,
   "metadata": {},
   "outputs": [
    {
     "name": "stdout",
     "output_type": "stream",
     "text": [
      "(94379, 29)\n"
     ]
    },
    {
     "data": {
      "text/plain": [
       "TOTROOMS      0\n",
       "OMB13CBSA     0\n",
       "BLD           0\n",
       "HHSEX         0\n",
       "HHMAR         0\n",
       "HHSPAN        0\n",
       "HHCITSHP      0\n",
       "HHAGE         0\n",
       "HHRACE        0\n",
       "HHRACEAS      0\n",
       "HHRACEPI      0\n",
       "HHNATVTY      0\n",
       "HSHLDTYPE     0\n",
       "NUMELDERS     0\n",
       "NUMADULTS     0\n",
       "NUMNONREL     0\n",
       "NUMVETS       0\n",
       "NUMYNGKIDS    0\n",
       "NUMOLDKIDS    0\n",
       "NUMSUBFAM     0\n",
       "NUMSECFAM     0\n",
       "NUMPEOPLE     0\n",
       "GRANDHH       0\n",
       "MULTIGEN      0\n",
       "UNITSIZE      0\n",
       "BEDROOMS      0\n",
       "DISHH         0\n",
       "BATHROOMS     0\n",
       "VACANCY       0\n",
       "dtype: int64"
      ]
     },
     "execution_count": 36,
     "metadata": {},
     "output_type": "execute_result"
    }
   ],
   "source": [
    "print(ahs.shape)\n",
    "ahs.isnull().sum()"
   ]
  },
  {
   "cell_type": "code",
   "execution_count": null,
   "metadata": {},
   "outputs": [],
   "source": []
  },
  {
   "cell_type": "code",
   "execution_count": null,
   "metadata": {},
   "outputs": [],
   "source": []
  },
  {
   "cell_type": "code",
   "execution_count": null,
   "metadata": {},
   "outputs": [],
   "source": []
  },
  {
   "cell_type": "markdown",
   "metadata": {},
   "source": [
    "# Questions\n",
    "* \n",
    "* Grouped by CBSA metro areas, what percentage of housing units have:\n",
    "**(A) At least one more bathroom than number of people in unit\n",
    "**(B) At least one bedroom than number of people in unit\n",
    "**There is both (A) and (B)\n",
    "* Compare across West Coast metropolitan areas and national baseline with table\n",
    "* Compare across visualizations\n",
    "* Create visualization of west coast metro areas Covid surge\n"
   ]
  }
 ],
 "metadata": {
  "kernelspec": {
   "display_name": "Python 3",
   "language": "python",
   "name": "python3"
  },
  "language_info": {
   "codemirror_mode": {
    "name": "ipython",
    "version": 3
   },
   "file_extension": ".py",
   "mimetype": "text/x-python",
   "name": "python",
   "nbconvert_exporter": "python",
   "pygments_lexer": "ipython3",
   "version": "3.8.5"
  }
 },
 "nbformat": 4,
 "nbformat_minor": 4
}
